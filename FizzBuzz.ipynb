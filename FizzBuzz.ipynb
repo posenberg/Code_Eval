{
 "metadata": {
  "name": "",
  "signature": "sha256:6848eba1320af10bbda963e962ac6373669a775664de163777786b138d2eee42"
 },
 "nbformat": 3,
 "nbformat_minor": 0,
 "worksheets": [
  {
   "cells": [
    {
     "cell_type": "code",
     "collapsed": false,
     "input": [
      "value = ''\n",
      "for i in xrange(1, 101):\n",
      "    if i % 15 == 0:\n",
      "        value = value + \"FizzBuzz \"\n",
      "    elif i % 3 == 0:\n",
      "        value = value + \"Fizz \"\n",
      "    elif i % 5 == 0:\n",
      "        value = value + \"Buzz \"\n",
      "    else:\n",
      "        value = value + str(i) + \" \"\n",
      "\n",
      "print value"
     ],
     "language": "python",
     "metadata": {},
     "outputs": [
      {
       "output_type": "stream",
       "stream": "stdout",
       "text": [
        "1 2 Fizz 4 Buzz Fizz 7 8 Fizz Buzz 11 Fizz 13 14 FizzBuzz 16 17 Fizz 19 Buzz Fizz 22 23 Fizz Buzz 26 Fizz 28 29 FizzBuzz 31 32 Fizz 34 Buzz Fizz 37 38 Fizz Buzz 41 Fizz 43 44 FizzBuzz 46 47 Fizz 49 Buzz Fizz 52 53 Fizz Buzz 56 Fizz 58 59 FizzBuzz 61 62 Fizz 64 Buzz Fizz 67 68 Fizz Buzz 71 Fizz 73 74 FizzBuzz 76 77 Fizz 79 Buzz Fizz 82 83 Fizz Buzz 86 Fizz 88 89 FizzBuzz 91 92 Fizz 94 Buzz Fizz 97 98 Fizz Buzz \n"
       ]
      }
     ],
     "prompt_number": 4
    },
    {
     "cell_type": "code",
     "collapsed": false,
     "input": [
      "print value"
     ],
     "language": "python",
     "metadata": {},
     "outputs": [
      {
       "output_type": "stream",
       "stream": "stdout",
       "text": [
        "12Fizz 4Buzz Fizz 78Fizz Buzz 11Fizz 1314FizzBuzz 1617Fizz 19Buzz Fizz 2223Fizz Buzz 26Fizz 2829FizzBuzz 3132Fizz 34Buzz Fizz 3738Fizz Buzz 41Fizz 4344FizzBuzz 4647Fizz 49Buzz Fizz 5253Fizz Buzz 56Fizz 5859FizzBuzz 6162Fizz 64Buzz Fizz 6768Fizz Buzz 71Fizz 7374FizzBuzz 7677Fizz 79Buzz Fizz 8283Fizz Buzz 86Fizz 8889FizzBuzz 9192Fizz 94Buzz Fizz 9798Fizz Buzz \n"
       ]
      }
     ],
     "prompt_number": 3
    },
    {
     "cell_type": "code",
     "collapsed": false,
     "input": [
      "value = 'stuff'\n",
      "value + \"fizz\""
     ],
     "language": "python",
     "metadata": {},
     "outputs": []
    },
    {
     "cell_type": "code",
     "collapsed": false,
     "input": [],
     "language": "python",
     "metadata": {},
     "outputs": []
    },
    {
     "cell_type": "code",
     "collapsed": false,
     "input": [],
     "language": "python",
     "metadata": {},
     "outputs": []
    }
   ],
   "metadata": {}
  }
 ]
}
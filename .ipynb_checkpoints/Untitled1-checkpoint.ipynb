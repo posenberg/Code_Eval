{
 "metadata": {
  "name": "",
  "signature": "sha256:87ae21ba21d8f88ec33a94cc2e8c43ef72884a905425006c3fa302ee3511abda"
 },
 "nbformat": 3,
 "nbformat_minor": 0,
 "worksheets": [
  {
   "cells": [
    {
     "cell_type": "code",
     "collapsed": false,
     "input": [
      "value = ''\n",
      "for i in xrange(1, 101):\n",
      "    if i % 15 == 0:\n",
      "        value = value + \"FizzBuzz \"\n",
      "    elif i % 3 == 0:\n",
      "        value = value + \"Fizz \"\n",
      "    elif i % 5 == 0:\n",
      "        value = value + \"Buzz \"\n",
      "    else:\n",
      "        value = value + str(i) + \" \"\n",
      "\n",
      "print value"
     ],
     "language": "python",
     "metadata": {},
     "outputs": [
      {
       "output_type": "stream",
       "stream": "stdout",
       "text": [
        "12Fizz 4Buzz Fizz 78Fizz Buzz 11Fizz 1314FizzBuzz 1617Fizz 19Buzz Fizz 2223Fizz Buzz 26Fizz 2829FizzBuzz 3132Fizz 34Buzz Fizz 3738Fizz Buzz 41Fizz 4344FizzBuzz 4647Fizz 49Buzz Fizz 5253Fizz Buzz 56Fizz 5859FizzBuzz 6162Fizz 64Buzz Fizz 6768Fizz Buzz 71Fizz 7374FizzBuzz 7677Fizz 79Buzz Fizz 8283Fizz Buzz 86Fizz 8889FizzBuzz 9192Fizz 94Buzz Fizz 9798Fizz Buzz \n"
       ]
      }
     ],
     "prompt_number": 2
    },
    {
     "cell_type": "code",
     "collapsed": false,
     "input": [
      "print value"
     ],
     "language": "python",
     "metadata": {},
     "outputs": [
      {
       "output_type": "stream",
       "stream": "stdout",
       "text": [
        "12Fizz 4Buzz Fizz 78Fizz Buzz 11Fizz 1314FizzBuzz 1617Fizz 19Buzz Fizz 2223Fizz Buzz 26Fizz 2829FizzBuzz 3132Fizz 34Buzz Fizz 3738Fizz Buzz 41Fizz 4344FizzBuzz 4647Fizz 49Buzz Fizz 5253Fizz Buzz 56Fizz 5859FizzBuzz 6162Fizz 64Buzz Fizz 6768Fizz Buzz 71Fizz 7374FizzBuzz 7677Fizz 79Buzz Fizz 8283Fizz Buzz 86Fizz 8889FizzBuzz 9192Fizz 94Buzz Fizz 9798Fizz Buzz \n"
       ]
      }
     ],
     "prompt_number": 3
    },
    {
     "cell_type": "code",
     "collapsed": false,
     "input": [
      "value = 'stuff'\n",
      "value + \"fizz\""
     ],
     "language": "python",
     "metadata": {},
     "outputs": []
    },
    {
     "cell_type": "code",
     "collapsed": false,
     "input": [],
     "language": "python",
     "metadata": {},
     "outputs": []
    },
    {
     "cell_type": "code",
     "collapsed": false,
     "input": [],
     "language": "python",
     "metadata": {},
     "outputs": []
    }
   ],
   "metadata": {}
  }
 ]
}